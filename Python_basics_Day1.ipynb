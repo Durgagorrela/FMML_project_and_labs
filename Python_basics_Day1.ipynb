{
  "nbformat": 4,
  "nbformat_minor": 0,
  "metadata": {
    "colab": {
      "provenance": [],
      "include_colab_link": true
    },
    "kernelspec": {
      "name": "python3",
      "display_name": "Python 3"
    },
    "language_info": {
      "name": "python"
    }
  },
  "cells": [
    {
      "cell_type": "markdown",
      "metadata": {
        "id": "view-in-github",
        "colab_type": "text"
      },
      "source": [
        "<a href=\"https://colab.research.google.com/github/Durgagorrela/FMML_project_and_labs/blob/main/Python_basics_Day1.ipynb\" target=\"_parent\"><img src=\"https://colab.research.google.com/assets/colab-badge.svg\" alt=\"Open In Colab\"/></a>"
      ]
    },
    {
      "cell_type": "markdown",
      "source": [
        "\n",
        "Declare a variable called \"aid\" and asign a value as your name then print the name like \"Kiet\"\n",
        "---\n",
        "\n"
      ],
      "metadata": {
        "id": "2UrXUibXpdQn"
      }
    },
    {
      "cell_type": "code",
      "source": [
        "\n",
        "# Declare the variable and assign a value (replace \"YourName\" with your actual name)\n",
        "aid = \"yourname\"\n",
        "\n",
        "# Capitalize the first letter of the name and print it\n",
        "capitalized_name = aid.capitalize()\n",
        "print(capitalized_name)"
      ],
      "metadata": {
        "id": "-MFfUJNJp5wY",
        "colab": {
          "base_uri": "https://localhost:8080/"
        },
        "outputId": "5ee2cb3d-0659-4ebb-b798-e2b37e749905"
      },
      "execution_count": 1,
      "outputs": [
        {
          "output_type": "stream",
          "name": "stdout",
          "text": [
            "Yourname\n"
          ]
        }
      ]
    },
    {
      "cell_type": "markdown",
      "source": [
        " declare a value to the valrable then print the type of value"
      ],
      "metadata": {
        "id": "b9GaqLWgqBOW"
      }
    },
    {
      "cell_type": "code",
      "source": [
        "\n",
        "# Declare a variable and assign a value\n",
        "my_variable = 42\n",
        "\n",
        "# Print the type of the value\n",
        "print(type(my_variable))"
      ],
      "metadata": {
        "id": "P_U7hv3VqaCM",
        "colab": {
          "base_uri": "https://localhost:8080/"
        },
        "outputId": "2749dd94-6e9d-400e-c991-2c40b1c70ae3"
      },
      "execution_count": 2,
      "outputs": [
        {
          "output_type": "stream",
          "name": "stdout",
          "text": [
            "<class 'int'>\n"
          ]
        }
      ]
    },
    {
      "cell_type": "markdown",
      "source": [
        "Write a python code using Format Method and \"fstrings\""
      ],
      "metadata": {
        "id": "qALPtb9iqdah"
      }
    },
    {
      "cell_type": "code",
      "source": [
        "\n",
        "name = \"Alice\"\n",
        "age = 30\n",
        "\n",
        "formatted_str = \"My name is {} and I am {} years old.\".format(name, age)\n",
        "print(formatted_str)"
      ],
      "metadata": {
        "id": "GybmaiaiqzQv",
        "colab": {
          "base_uri": "https://localhost:8080/"
        },
        "outputId": "becdff6e-b44e-4b0f-89ae-e145f4863d8f"
      },
      "execution_count": 3,
      "outputs": [
        {
          "output_type": "stream",
          "name": "stdout",
          "text": [
            "My name is Alice and I am 30 years old.\n"
          ]
        }
      ]
    },
    {
      "cell_type": "markdown",
      "source": [
        "Write a python code using .join() method\n",
        "\n",
        "Input format:\n",
        "kiet\n",
        "Output format:\n",
        "kkiet"
      ],
      "metadata": {
        "id": "WnitQ77GpcWQ"
      }
    },
    {
      "cell_type": "code",
      "source": [
        "\n",
        "input_str = \"kiet\"\n",
        "output_str = \"k\" + \"\".join(input_str)\n",
        "print(output_str)"
      ],
      "metadata": {
        "id": "zmQ2Y2wjrY7-",
        "colab": {
          "base_uri": "https://localhost:8080/"
        },
        "outputId": "530350f1-ee67-4eb1-ab7f-5c59a00e93f4"
      },
      "execution_count": 4,
      "outputs": [
        {
          "output_type": "stream",
          "name": "stdout",
          "text": [
            "kkiet\n"
          ]
        }
      ]
    },
    {
      "cell_type": "markdown",
      "source": [
        "Write a python code for checking whether the person is eligible for  Vote or Not  using conditionals"
      ],
      "metadata": {
        "id": "xzP0JMI5rWQ9"
      }
    },
    {
      "cell_type": "code",
      "source": [
        "\n",
        "# Get the person's age as input\n",
        "age = int(input(\"Enter your age: \"))\n",
        "\n",
        "# Check if the person is eligible to vote\n",
        "if age >= 18:\n",
        "    print(\"You are eligible to vote.\")\n",
        "else:\n",
        "    print(\"You are not eligible to vote.\")"
      ],
      "metadata": {
        "id": "JEb5o1NTrz7V"
      },
      "execution_count": null,
      "outputs": []
    },
    {
      "cell_type": "markdown",
      "source": [
        "write simple codes using string methods:\n"
      ],
      "metadata": {
        "id": "KDH6s5xkr1L1"
      }
    },
    {
      "cell_type": "code",
      "source": [
        "#any 10 methods\n",
        "#write your code here"
      ],
      "metadata": {
        "id": "UiMrtWMPsagV"
      },
      "execution_count": null,
      "outputs": []
    },
    {
      "cell_type": "markdown",
      "source": [
        "#DEBUGGING"
      ],
      "metadata": {
        "id": "X4b8OXNish-E"
      }
    },
    {
      "cell_type": "code",
      "source": [
        "a=\"kiek\"\n",
        "b=\"kiet\"\n",
        "print(\"both {} and {} are in same campus\".format(a,b))\n",
        "#output should be like this\n",
        "#both kiet and kiek are in same campus"
      ],
      "metadata": {
        "colab": {
          "base_uri": "https://localhost:8080/"
        },
        "id": "eArmRQ2Xsg4b",
        "outputId": "84ff11dc-fee6-47ae-c796-219136852278"
      },
      "execution_count": null,
      "outputs": [
        {
          "output_type": "stream",
          "name": "stdout",
          "text": [
            "both kiek and kiet are in same campus\n"
          ]
        }
      ]
    },
    {
      "cell_type": "code",
      "source": [
        "a=\"kiet\"\n",
        "b=\"kiek\"\n",
        "print(\"both {a} and {b} are in same campus\")\n",
        "#both kiet and kiek are in same campus\n",
        "#correct the output"
      ],
      "metadata": {
        "colab": {
          "base_uri": "https://localhost:8080/"
        },
        "id": "NTSKMEAftLde",
        "outputId": "738464fa-c8fa-4643-b0a4-377456645632"
      },
      "execution_count": null,
      "outputs": [
        {
          "output_type": "stream",
          "name": "stdout",
          "text": [
            "both {a} and {b} are in same campus\n"
          ]
        }
      ]
    },
    {
      "cell_type": "code",
      "source": [
        "\n",
        "a = 5\n",
        "b = 12\n",
        "\n",
        "if a == 5 and b == 12:\n",
        "    print(a, b)"
      ],
      "metadata": {
        "id": "1Kl6TiW5t85r"
      },
      "execution_count": null,
      "outputs": []
    },
    {
      "cell_type": "code",
      "source": [
        "a=5\n",
        "   if a %2 == 0:\n",
        "   print(\"a is divisible by 2\")\n",
        "\n",
        "else:\n",
        "    print(\"a  is not divisible by 2\")"
      ],
      "metadata": {
        "id": "HZn24oUpucy8"
      },
      "execution_count": null,
      "outputs": []
    }
  ]
}